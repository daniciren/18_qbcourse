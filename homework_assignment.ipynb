{
 "cells": [
  {
   "cell_type": "markdown",
   "metadata": {},
   "source": [
    "# Quantitative Biology Problem Set (2018)"
   ]
  },
  {
   "cell_type": "markdown",
   "metadata": {},
   "source": [
    "Written by Justin B. Kinney\n",
    "\n",
    "Due on Friay, 26 October 2018. Submit an IPython notbook that I can run to get the answers to all of these problems. Use Markdown or comments within the code to explain your reasoning. Email to [jkinney@cshl.edu](mailto:jkinney@cshl.edu) by 11:59 pm."
   ]
  },
  {
   "cell_type": "code",
   "execution_count": 1,
   "metadata": {
    "collapsed": true
   },
   "outputs": [],
   "source": [
    "# Always put this first\n",
    "import numpy as np\n",
    "import pandas as pd\n",
    "import matplotlib.pyplot as plt\n",
    "\n",
    "%matplotlib inline\n",
    "plt.ion()"
   ]
  },
  {
   "cell_type": "markdown",
   "metadata": {},
   "source": [
    "**P1.** Load the energy matrix stored in the file ```crp_emat.txt``` (which is in units of $k_B T$). Display this energy matrix as a heatmap. In the title of this heatmap, print the site length."
   ]
  },
  {
   "cell_type": "code",
   "execution_count": 1,
   "metadata": {},
   "outputs": [],
   "source": [
    "# Answer here"
   ]
  },
  {
   "cell_type": "markdown",
   "metadata": {},
   "source": [
    "**P2.** Using Python, compute a position weight matrix (PWM) for CRP using the CRP sites in ```crp_sites.fasta```. Use the natural logarithm when computing the PWM (not log base 2). Assume that random DNA has a GC content of 50.7%. Display this PWM as a heatmap. In the title of this heatmap, print the site length."
   ]
  },
  {
   "cell_type": "code",
   "execution_count": 2,
   "metadata": {},
   "outputs": [],
   "source": [
    "# Answer here"
   ]
  },
  {
   "cell_type": "markdown",
   "metadata": {},
   "source": [
    "**P3.** Write a Python function to evaluate an arbitrary PWM (or energy matrix) on an arbitrary DNA sequence.  Include a docstring. Demonstrate that this function works on a valid sequence, such as ``` ATTAATGTGAGTTAGCTCACTCATTA```. Demonstrate that this function throws an error if the DNA site and the matrix have incompatible shapes, or if the the site contains bases other than \"A\",\"C\",\"G\", and \"T\". "
   ]
  },
  {
   "cell_type": "code",
   "execution_count": 3,
   "metadata": {
    "collapsed": true
   },
   "outputs": [],
   "source": [
    "# Answer here"
   ]
  },
  {
   "cell_type": "markdown",
   "metadata": {},
   "source": [
    "**P4.** Using your function from problem P2, evaluate your PWM on all sites in crp_sites.fasta. Also, evaluate the energy matrix on all binding sites in crp_sites.fasta. Plot the PWM scores for each site against the energies predicted by the energy matrix. Label the x- and y-axes. "
   ]
  },
  {
   "cell_type": "code",
   "execution_count": 4,
   "metadata": {},
   "outputs": [],
   "source": [
    "# Answer here"
   ]
  },
  {
   "cell_type": "markdown",
   "metadata": {},
   "source": [
    "**P5.** Perform linear regression on the plot from problem P3, and plot the best fit line (Hint: check out the functions in scipy.stats). Print is the slope of this best fit line? What is the implication of this observation for the  arguments of Stormo & Fields (1998) and Berg & von Hippel (1987)?"
   ]
  },
  {
   "cell_type": "code",
   "execution_count": 5,
   "metadata": {},
   "outputs": [],
   "source": [
    "# Answer here"
   ]
  },
  {
   "cell_type": "markdown",
   "metadata": {},
   "source": [
    "**P6.** Consider an in vitro experiment in which purified CRP is allowed to bind to 1 copy of the E. coli chromosome. Assume that the CRP concentration is such the CRP binding site at the lac promoter, the sequence of which is ``` ATTAATGTGAGTTAGCTCACTCATTA```, is occupied 50% of the time. On average, how many total CRP molecules will be bound to all of the sites in ```crp_sites.txt```? Use the energy matrix scores (not the PWM scores) to answer this question. It's OK to assume that CRP binds independently to each site. "
   ]
  },
  {
   "cell_type": "code",
   "execution_count": 6,
   "metadata": {},
   "outputs": [],
   "source": [
    "# Answer here"
   ]
  }
 ],
 "metadata": {
  "kernelspec": {
   "display_name": "anaconda_kernel",
   "language": "python",
   "name": "anaconda_kernel"
  },
  "language_info": {
   "codemirror_mode": {
    "name": "ipython",
    "version": 3
   },
   "file_extension": ".py",
   "mimetype": "text/x-python",
   "name": "python",
   "nbconvert_exporter": "python",
   "pygments_lexer": "ipython3",
   "version": "3.6.3"
  }
 },
 "nbformat": 4,
 "nbformat_minor": 1
}
